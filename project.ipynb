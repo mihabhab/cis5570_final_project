{
 "cells": [
  {
   "cell_type": "code",
   "execution_count": 2,
   "id": "becccaf3",
   "metadata": {},
   "outputs": [],
   "source": [
    "import math\n",
    "import csv\n",
    "from pyspark.sql import SparkSession"
   ]
  },
  {
   "cell_type": "code",
   "execution_count": 3,
   "id": "2b28d24f",
   "metadata": {},
   "outputs": [
    {
     "name": "stderr",
     "output_type": "stream",
     "text": [
      "25/04/19 17:28:51 WARN Utils: Your hostname, Tappns-MacBook-Pro.local resolves to a loopback address: 127.0.0.1; using 141.215.217.245 instead (on interface en0)\n",
      "25/04/19 17:28:51 WARN Utils: Set SPARK_LOCAL_IP if you need to bind to another address\n",
      "Setting default log level to \"WARN\".\n",
      "To adjust logging level use sc.setLogLevel(newLevel). For SparkR, use setLogLevel(newLevel).\n",
      "25/04/19 17:28:51 WARN NativeCodeLoader: Unable to load native-hadoop library for your platform... using builtin-java classes where applicable\n",
      "25/04/19 17:28:52 WARN Utils: Service 'SparkUI' could not bind on port 4040. Attempting port 4041.\n"
     ]
    }
   ],
   "source": [
    "spark = SparkSession.builder.appName(\"final project\").getOrCreate()\n",
    "sc = spark.sparkContext"
   ]
  },
  {
   "cell_type": "code",
   "execution_count": 4,
   "id": "98bb0034",
   "metadata": {},
   "outputs": [],
   "source": [
    "movies = sc.textFile(name='./movies.csv')\n",
    "ratings = sc.textFile(name='./ratings.csv')"
   ]
  },
  {
   "cell_type": "code",
   "execution_count": 5,
   "id": "87c9861e",
   "metadata": {},
   "outputs": [
    {
     "name": "stderr",
     "output_type": "stream",
     "text": [
      "25/04/19 17:29:03 WARN GarbageCollectionMetrics: To enable non-built-in garbage collector(s) List(G1 Concurrent GC), users should configure it(them) to spark.eventLog.gcMetrics.youngGenerationGarbageCollectors or spark.eventLog.gcMetrics.oldGenerationGarbageCollectors\n"
     ]
    }
   ],
   "source": [
    "# creates key value pair of userid, movieid, and rating\n",
    "def user_rating_mapper(line):\n",
    "    (userID, movieID, rating, timestamp) = line.split(',')\n",
    "    return (userID, (movieID, float(rating))) # (userId, (movieId, rating))\n",
    "\n",
    "# filter ignores first line in rating csv\n",
    "ratings_rdd = ratings.filter(lambda line: not line.startswith(\"userId\")).map(user_rating_mapper)\n",
    "\n",
    "# groups rating by userid and calculate average of that \n",
    "def cal_avg_rating(group):\n",
    "    # input (group) : [ (movieid, rating), ....]\n",
    "    # outout : average\n",
    "    length = len(group)\n",
    "    total_rating =0.0\n",
    "\n",
    "    for movieId, rating in group:\n",
    "        total_rating = total_rating + rating\n",
    "\n",
    "    return total_rating/length\n",
    "\n",
    "# this rdd has represenation like [{\"userid\",avg, \"userid2\":avg, ....}]\n",
    "user_avg = ratings_rdd.groupByKey().mapValues(cal_avg_rating)\n",
    "\n",
    "# baselined user rating around zero \n",
    "def optimized(x):\n",
    "    # input(x) : (userid, ((movieId, rating), average)) -> ('21', (('799', 5.0), 3.8285714285714287))\n",
    "    # output: (userid, (movieId, rating - average))\n",
    "    return (x[0], (x[1][0][0], x[1][0][1] - x[1][1]))\n",
    "\n",
    "centered_ratings = ratings_rdd.join(user_avg).map(optimized)\n",
    "\n"
   ]
  },
  {
   "cell_type": "code",
   "execution_count": 6,
   "id": "ba797d31",
   "metadata": {},
   "outputs": [],
   "source": [
    "# Map movie ID, title, and genres \n",
    "def movie_genre_mapper(line):\n",
    "    # you can't split using ',' becasue some movie title has a comman\n",
    "    # you have to use csv reader to split the lines \n",
    "    fields = next(csv.reader([line])) \n",
    "    movieId = fields[0]\n",
    "    title = fields[1]\n",
    "    genres = fields[2].split('|')\n",
    "    return (movieId, (title, genres))  # (movieId, (title, [genres]))\n",
    "\n",
    "\n",
    "movies_rdd = movies.filter(lambda line: not line.startswith(\"movieId\")).map(movie_genre_mapper)\n",
    "movie_rating_rdd = centered_ratings.map(lambda x: (x[1][0],(x[0],x[1][1]))) # (movieId, (userId, rating))\n",
    "\n",
    "# create key-value pair for user's rating to each genre they have rated\n",
    "def genre_and_rating_mapper(x):\n",
    "    # input(x) : (movieId, ((userId, rating), (title, [genres])))\n",
    "    #input(example): ('327', (('72', -1.0238095238095237), ('Tank Girl (1995)', ['Action', 'Comedy', 'Sci-Fi'])))\n",
    "    \n",
    "    # output : [(userid, (genre,rating)), ...]\n",
    "    genres = x[1][1][1]\n",
    "    title = x[1][1][0]\n",
    "    rating = x[1][0][1]\n",
    "    userId = x[1][0][0]\n",
    "    movieID = x[0]\n",
    "\n",
    "    values = []\n",
    "\n",
    "    for genre in genres:\n",
    "        values.append( (userId, (genre,  rating)))\n",
    "\n",
    "    return values\n",
    "\n",
    "\n",
    "user_genre_scores = movie_rating_rdd.join(movies_rdd).flatMap(genre_and_rating_mapper)\n",
    "\n",
    "\n",
    "# group by userID and find average of rated item user watched \n",
    "def avg_per_genre(group):\n",
    "    #input: [ (genre, rating), .....(genre n, rating n)]\n",
    "    #output: user profile {\"genre\": coefficent, ....} \n",
    "    total = {}\n",
    "    count = {}\n",
    "    for genre, rating in group:\n",
    "        total[genre] = total.get(genre,0.0) + rating\n",
    "        count[genre] = count.get(genre, 0) + 1\n",
    "\n",
    "    avg = {}\n",
    "    for g in total:\n",
    "        avg[g] = total[g] / count[g]\n",
    "\n",
    "    return avg\n",
    "\n",
    "\n",
    "user_profile = user_genre_scores.groupByKey().mapValues(avg_per_genre)"
   ]
  },
  {
   "cell_type": "code",
   "execution_count": 7,
   "id": "5a9c7b34",
   "metadata": {},
   "outputs": [
    {
     "name": "stderr",
     "output_type": "stream",
     "text": [
      "                                                                                \r"
     ]
    }
   ],
   "source": [
    "# create item profile \n",
    "\n",
    "# gather all genres\n",
    "all_genres = movies_rdd.flatMap(lambda x: x[1][1]).distinct().collect()\n",
    "\n",
    "# create item profile vector \n",
    "# e.g., [ (movieid, vector), ....]\n",
    "# vector = movie profile = {\"genre1\":0.0, \"genre2\":1.0, .....} \n",
    "def genres_to_dict_vector(genres, all_genres):  \n",
    "\n",
    "    vector = {}\n",
    "    for genre in all_genres:\n",
    "        if genre in genres:\n",
    "            vector[genre]=1.0\n",
    "        else:\n",
    "            vector[genre]=0.0\n",
    "    \n",
    "    return vector\n",
    "# it creates this following rdd data representation {\"movieId\":{profile}, ...., \"movieIDn\":{prifle}}\n",
    "item_profile = movies_rdd.mapValues(lambda x: genres_to_dict_vector(x[1], all_genres))"
   ]
  },
  {
   "cell_type": "code",
   "execution_count": 8,
   "id": "045487c8",
   "metadata": {},
   "outputs": [
    {
     "name": "stderr",
     "output_type": "stream",
     "text": [
      "                                                                                \r"
     ]
    },
    {
     "name": "stdout",
     "output_type": "stream",
     "text": [
      "Movie 746 -> similarity: 0.7051\n",
      "Movie 1153 -> similarity: 0.7051\n",
      "Movie 1154 -> similarity: 0.7051\n",
      "Movie 2066 -> similarity: 0.7051\n",
      "Movie 3292 -> similarity: 0.7051\n",
      "Movie 3380 -> similarity: 0.7051\n",
      "Movie 4426 -> similarity: 0.7051\n",
      "Movie 5169 -> similarity: 0.7051\n",
      "Movie 5795 -> similarity: 0.7051\n",
      "Movie 7335 -> similarity: 0.7051\n"
     ]
    }
   ],
   "source": [
    "# collete user prfile and movie they watched as a map, then braodcast to all nodes. \n",
    "\n",
    "# collects all user and their profile as a map\n",
    "# example {\"user1\":{profile}, \"user2\":{profile},....}\n",
    "all_user_profile = user_profile.collectAsMap()\n",
    "\n",
    "# groups all movies that user watched and turns that to a set.\n",
    "# example, {\"user1\": {m1,m2,..,mn}, \"user2\":{m1,m2,..,mn},.....,}\n",
    "watched_movies = ratings_rdd.map(lambda x: (x[0], x[1][0])).groupByKey().mapValues(set).collectAsMap()\n",
    "\n",
    "#sends the value to all nodes and recreate rdd\n",
    "user_profile_broadcast = sc.broadcast(all_user_profile)\n",
    "watched_movies_broadcast = sc.broadcast(watched_movies)\n",
    "\n",
    "# cosine helper function\n",
    "def cosine_similarity(user_vector, item_vector):\n",
    "    dot_product = sum(user_vector.get(g, 0) * item_vector.get(g, 0) for g in item_vector)\n",
    "    user_magnitudes = math.sqrt(sum(v ** 2 for v in user_vector.values()))\n",
    "    movie_magnitudes = math.sqrt(sum(v ** 2 for v in item_vector.values()))\n",
    "    if user_magnitudes == 0 or movie_magnitudes == 0:\n",
    "        return 0.0\n",
    "    return dot_product / (user_magnitudes * movie_magnitudes)\n",
    "\n",
    "\n",
    "user_id = '1'  # change as needed\n",
    "\n",
    "# gets the user profile \n",
    "# example, {'Drama': 0.017104714226116226,'Comedy': -0.19858156028368773,.......,'Film-Noir': 1.4680851063829787}\n",
    "profile = user_profile_broadcast.value.get(user_id, {})  \n",
    "\n",
    "# gets all the movies that user watched \n",
    "# example, {'1041','1056','1060',........,'1090','1094','110'}\n",
    "watched = watched_movies_broadcast.value.get(user_id, set())  \n",
    "\n",
    "# filter out all movies that user watched, computes cosine similarity, and takes out top 10 movies. \n",
    "recommendations = item_profile \\\n",
    "    .filter(lambda x: x[0] not in watched) \\\n",
    "    .map(lambda x: (x[0], cosine_similarity(profile, x[1]))) \\\n",
    "    .takeOrdered(10, key=lambda x: -x[1])\n",
    "\n",
    "for movieId, score in recommendations:\n",
    "    print(f\"Movie {movieId} -> similarity: {score:.4f}\")\n",
    "\n"
   ]
  },
  {
   "cell_type": "code",
   "execution_count": 9,
   "id": "abf72ab3",
   "metadata": {},
   "outputs": [
    {
     "data": {
      "text/plain": [
       "{'Drama': 0.017104714226116226,\n",
       " 'Comedy': -0.19858156028368773,\n",
       " 'Romance': -0.2819148936170211,\n",
       " 'Sci-Fi': 0.4092615769712142,\n",
       " 'Thriller': -0.03191489361702127,\n",
       " 'Crime': 0.34308510638297873,\n",
       " 'Mystery': 0.16808510638297874,\n",
       " 'Adventure': -0.06132665832290365,\n",
       " 'War': -0.21373307543520295,\n",
       " 'Documentary': -0.5319148936170213,\n",
       " 'Children': -0.03191489361702127,\n",
       " 'Fantasy': -1.0319148936170213,\n",
       " 'Horror': 0.1347517730496454,\n",
       " 'Action': 0.5733482642777159,\n",
       " 'Western': -0.03191489361702127,\n",
       " 'Film-Noir': 1.4680851063829787}"
      ]
     },
     "execution_count": 9,
     "metadata": {},
     "output_type": "execute_result"
    }
   ],
   "source": [
    "# display user profile\n",
    "profile"
   ]
  },
  {
   "cell_type": "code",
   "execution_count": 10,
   "id": "14cb7ef2",
   "metadata": {},
   "outputs": [
    {
     "name": "stdout",
     "output_type": "stream",
     "text": [
      "move he watched:  141\n"
     ]
    },
    {
     "data": {
      "text/plain": [
       "{'1041',\n",
       " '1056',\n",
       " '1060',\n",
       " '1080',\n",
       " '1090',\n",
       " '1094',\n",
       " '110',\n",
       " '111',\n",
       " '1120',\n",
       " '1136',\n",
       " '1150',\n",
       " '1172',\n",
       " '1178',\n",
       " '1183',\n",
       " '1196',\n",
       " '1197',\n",
       " '1199',\n",
       " '1200',\n",
       " '1203',\n",
       " '1204',\n",
       " '1208',\n",
       " '1210',\n",
       " '1211',\n",
       " '1213',\n",
       " '1217',\n",
       " '1221',\n",
       " '1225',\n",
       " '1228',\n",
       " '1233',\n",
       " '1234',\n",
       " '1236',\n",
       " '1242',\n",
       " '1247',\n",
       " '1259',\n",
       " '1262',\n",
       " '1263',\n",
       " '1270',\n",
       " '1272',\n",
       " '1276',\n",
       " '1288',\n",
       " '1296',\n",
       " '1297',\n",
       " '1304',\n",
       " '1357',\n",
       " '1392',\n",
       " '1406',\n",
       " '161',\n",
       " '1653',\n",
       " '166',\n",
       " '1693',\n",
       " '17',\n",
       " '1719',\n",
       " '1721',\n",
       " '1748',\n",
       " '176',\n",
       " '1784',\n",
       " '1810',\n",
       " '1885',\n",
       " '1923',\n",
       " '1939',\n",
       " '1944',\n",
       " '1952',\n",
       " '1960',\n",
       " '1961',\n",
       " '1965',\n",
       " '1968',\n",
       " '2020',\n",
       " '2025',\n",
       " '2028',\n",
       " '2064',\n",
       " '2067',\n",
       " '2109',\n",
       " '2125',\n",
       " '223',\n",
       " '2232',\n",
       " '2243',\n",
       " '2247',\n",
       " '2268',\n",
       " '2312',\n",
       " '2313',\n",
       " '232',\n",
       " '2324',\n",
       " '2329',\n",
       " '2336',\n",
       " '2352',\n",
       " '2396',\n",
       " '2407',\n",
       " '2424',\n",
       " '25',\n",
       " '2502',\n",
       " '2520',\n",
       " '2529',\n",
       " '2599',\n",
       " '260',\n",
       " '2640',\n",
       " '2690',\n",
       " '2712',\n",
       " '2724',\n",
       " '2797',\n",
       " '2882',\n",
       " '2890',\n",
       " '29',\n",
       " '2918',\n",
       " '2944',\n",
       " '2966',\n",
       " '2973',\n",
       " '2985',\n",
       " '2997',\n",
       " '30',\n",
       " '302',\n",
       " '3030',\n",
       " '306',\n",
       " '307',\n",
       " '3078',\n",
       " '3088',\n",
       " '32',\n",
       " '322',\n",
       " '34',\n",
       " '345',\n",
       " '356',\n",
       " '36',\n",
       " '527',\n",
       " '541',\n",
       " '562',\n",
       " '593',\n",
       " '608',\n",
       " '645',\n",
       " '80',\n",
       " '800',\n",
       " '835',\n",
       " '838',\n",
       " '908',\n",
       " '909',\n",
       " '912',\n",
       " '915',\n",
       " '916',\n",
       " '923',\n",
       " '926',\n",
       " '927',\n",
       " '933',\n",
       " '971'}"
      ]
     },
     "execution_count": 10,
     "metadata": {},
     "output_type": "execute_result"
    }
   ],
   "source": [
    "# show movie user watched \n",
    "print(f\"move he watched: \",len(watched))\n",
    "watched"
   ]
  },
  {
   "cell_type": "code",
   "execution_count": null,
   "id": "e2207a5c",
   "metadata": {},
   "outputs": [],
   "source": [
    "# stop spark application \n",
    "sc.stop()"
   ]
  },
  {
   "cell_type": "code",
   "execution_count": null,
   "id": "186254ae",
   "metadata": {},
   "outputs": [],
   "source": [
    "profile"
   ]
  }
 ],
 "metadata": {
  "kernelspec": {
   "display_name": ".venv",
   "language": "python",
   "name": "python3"
  },
  "language_info": {
   "codemirror_mode": {
    "name": "ipython",
    "version": 3
   },
   "file_extension": ".py",
   "mimetype": "text/x-python",
   "name": "python",
   "nbconvert_exporter": "python",
   "pygments_lexer": "ipython3",
   "version": "3.13.1"
  }
 },
 "nbformat": 4,
 "nbformat_minor": 5
}
